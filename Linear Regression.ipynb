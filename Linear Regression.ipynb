{
 "cells": [
  {
   "cell_type": "code",
   "execution_count": 2,
   "id": "45f0c42e-5a98-4cef-a7e0-33ee22df4e30",
   "metadata": {},
   "outputs": [],
   "source": [
    "import pandas as pd\n",
    "import numpy as np\n",
    "import seaborn as sns\n",
    "import matplotlib.pyplot as plt\n",
    "import statsmodels.formula.api as smf"
   ]
  },
  {
   "cell_type": "code",
   "execution_count": 4,
   "id": "d08f4dcd-1681-434d-ac68-02f10f5baa14",
   "metadata": {},
   "outputs": [
    {
     "data": {
      "text/html": [
       "<div>\n",
       "<style scoped>\n",
       "    .dataframe tbody tr th:only-of-type {\n",
       "        vertical-align: middle;\n",
       "    }\n",
       "\n",
       "    .dataframe tbody tr th {\n",
       "        vertical-align: top;\n",
       "    }\n",
       "\n",
       "    .dataframe thead th {\n",
       "        text-align: right;\n",
       "    }\n",
       "</style>\n",
       "<table border=\"1\" class=\"dataframe\">\n",
       "  <thead>\n",
       "    <tr style=\"text-align: right;\">\n",
       "      <th></th>\n",
       "      <th>Newspaper</th>\n",
       "      <th>daily</th>\n",
       "      <th>sunday</th>\n",
       "    </tr>\n",
       "  </thead>\n",
       "  <tbody>\n",
       "    <tr>\n",
       "      <th>0</th>\n",
       "      <td>Baltimore Sun</td>\n",
       "      <td>391.952</td>\n",
       "      <td>488.506</td>\n",
       "    </tr>\n",
       "    <tr>\n",
       "      <th>1</th>\n",
       "      <td>Boston Globe</td>\n",
       "      <td>516.981</td>\n",
       "      <td>798.298</td>\n",
       "    </tr>\n",
       "    <tr>\n",
       "      <th>2</th>\n",
       "      <td>Boston Herald</td>\n",
       "      <td>355.628</td>\n",
       "      <td>235.084</td>\n",
       "    </tr>\n",
       "    <tr>\n",
       "      <th>3</th>\n",
       "      <td>Charlotte Observer</td>\n",
       "      <td>238.555</td>\n",
       "      <td>299.451</td>\n",
       "    </tr>\n",
       "    <tr>\n",
       "      <th>4</th>\n",
       "      <td>Chicago Sun Times</td>\n",
       "      <td>537.780</td>\n",
       "      <td>559.093</td>\n",
       "    </tr>\n",
       "    <tr>\n",
       "      <th>5</th>\n",
       "      <td>Chicago Tribune</td>\n",
       "      <td>733.775</td>\n",
       "      <td>1133.249</td>\n",
       "    </tr>\n",
       "    <tr>\n",
       "      <th>6</th>\n",
       "      <td>Cincinnati Enquirer</td>\n",
       "      <td>198.832</td>\n",
       "      <td>348.744</td>\n",
       "    </tr>\n",
       "    <tr>\n",
       "      <th>7</th>\n",
       "      <td>Denver Post</td>\n",
       "      <td>252.624</td>\n",
       "      <td>417.779</td>\n",
       "    </tr>\n",
       "    <tr>\n",
       "      <th>8</th>\n",
       "      <td>Des Moines Register</td>\n",
       "      <td>206.204</td>\n",
       "      <td>344.522</td>\n",
       "    </tr>\n",
       "    <tr>\n",
       "      <th>9</th>\n",
       "      <td>Hartford Courant</td>\n",
       "      <td>231.177</td>\n",
       "      <td>323.084</td>\n",
       "    </tr>\n",
       "    <tr>\n",
       "      <th>10</th>\n",
       "      <td>Houston Chronicle</td>\n",
       "      <td>449.755</td>\n",
       "      <td>620.752</td>\n",
       "    </tr>\n",
       "    <tr>\n",
       "      <th>11</th>\n",
       "      <td>Kansas City Star</td>\n",
       "      <td>288.571</td>\n",
       "      <td>423.305</td>\n",
       "    </tr>\n",
       "    <tr>\n",
       "      <th>12</th>\n",
       "      <td>Los Angeles Daily  News</td>\n",
       "      <td>185.736</td>\n",
       "      <td>202.614</td>\n",
       "    </tr>\n",
       "    <tr>\n",
       "      <th>13</th>\n",
       "      <td>Los Angeles Times</td>\n",
       "      <td>1164.388</td>\n",
       "      <td>1531.527</td>\n",
       "    </tr>\n",
       "    <tr>\n",
       "      <th>14</th>\n",
       "      <td>Miami Herald</td>\n",
       "      <td>444.581</td>\n",
       "      <td>553.479</td>\n",
       "    </tr>\n",
       "    <tr>\n",
       "      <th>15</th>\n",
       "      <td>Minneapolis Star Tribune</td>\n",
       "      <td>412.871</td>\n",
       "      <td>685.975</td>\n",
       "    </tr>\n",
       "    <tr>\n",
       "      <th>16</th>\n",
       "      <td>New Orleans Times-Picayune</td>\n",
       "      <td>272.280</td>\n",
       "      <td>324.241</td>\n",
       "    </tr>\n",
       "    <tr>\n",
       "      <th>17</th>\n",
       "      <td>New York Daily News</td>\n",
       "      <td>781.796</td>\n",
       "      <td>983.240</td>\n",
       "    </tr>\n",
       "    <tr>\n",
       "      <th>18</th>\n",
       "      <td>New York Times</td>\n",
       "      <td>1209.225</td>\n",
       "      <td>1762.015</td>\n",
       "    </tr>\n",
       "    <tr>\n",
       "      <th>19</th>\n",
       "      <td>Newsday</td>\n",
       "      <td>825.512</td>\n",
       "      <td>960.308</td>\n",
       "    </tr>\n",
       "    <tr>\n",
       "      <th>20</th>\n",
       "      <td>Omaha World Herald</td>\n",
       "      <td>223.748</td>\n",
       "      <td>284.611</td>\n",
       "    </tr>\n",
       "    <tr>\n",
       "      <th>21</th>\n",
       "      <td>Orange County Register</td>\n",
       "      <td>354.843</td>\n",
       "      <td>407.760</td>\n",
       "    </tr>\n",
       "    <tr>\n",
       "      <th>22</th>\n",
       "      <td>Philadelphia Inquirer</td>\n",
       "      <td>515.523</td>\n",
       "      <td>982.663</td>\n",
       "    </tr>\n",
       "    <tr>\n",
       "      <th>23</th>\n",
       "      <td>Pittsburgh Press</td>\n",
       "      <td>220.465</td>\n",
       "      <td>557.000</td>\n",
       "    </tr>\n",
       "    <tr>\n",
       "      <th>24</th>\n",
       "      <td>Portland Oregonian</td>\n",
       "      <td>337.672</td>\n",
       "      <td>440.923</td>\n",
       "    </tr>\n",
       "    <tr>\n",
       "      <th>25</th>\n",
       "      <td>Providence Journal-Bulletin</td>\n",
       "      <td>197.120</td>\n",
       "      <td>268.060</td>\n",
       "    </tr>\n",
       "    <tr>\n",
       "      <th>26</th>\n",
       "      <td>Rochester Democrat &amp; Chronicle</td>\n",
       "      <td>133.239</td>\n",
       "      <td>262.048</td>\n",
       "    </tr>\n",
       "    <tr>\n",
       "      <th>27</th>\n",
       "      <td>Rocky Mountain News</td>\n",
       "      <td>374.009</td>\n",
       "      <td>432.502</td>\n",
       "    </tr>\n",
       "    <tr>\n",
       "      <th>28</th>\n",
       "      <td>Sacramento Bee</td>\n",
       "      <td>273.844</td>\n",
       "      <td>338.355</td>\n",
       "    </tr>\n",
       "    <tr>\n",
       "      <th>29</th>\n",
       "      <td>San Francisco Chronicle</td>\n",
       "      <td>570.364</td>\n",
       "      <td>704.322</td>\n",
       "    </tr>\n",
       "    <tr>\n",
       "      <th>30</th>\n",
       "      <td>St. Louis Post-Dispatch</td>\n",
       "      <td>391.286</td>\n",
       "      <td>585.681</td>\n",
       "    </tr>\n",
       "    <tr>\n",
       "      <th>31</th>\n",
       "      <td>St. Paul Pioneer Press</td>\n",
       "      <td>201.860</td>\n",
       "      <td>267.781</td>\n",
       "    </tr>\n",
       "    <tr>\n",
       "      <th>32</th>\n",
       "      <td>Tampa Tribune</td>\n",
       "      <td>321.626</td>\n",
       "      <td>408.343</td>\n",
       "    </tr>\n",
       "    <tr>\n",
       "      <th>33</th>\n",
       "      <td>Washington Post</td>\n",
       "      <td>838.902</td>\n",
       "      <td>1165.567</td>\n",
       "    </tr>\n",
       "  </tbody>\n",
       "</table>\n",
       "</div>"
      ],
      "text/plain": [
       "                         Newspaper     daily    sunday\n",
       "0                    Baltimore Sun   391.952   488.506\n",
       "1                     Boston Globe   516.981   798.298\n",
       "2                    Boston Herald   355.628   235.084\n",
       "3               Charlotte Observer   238.555   299.451\n",
       "4                Chicago Sun Times   537.780   559.093\n",
       "5                  Chicago Tribune   733.775  1133.249\n",
       "6              Cincinnati Enquirer   198.832   348.744\n",
       "7                      Denver Post   252.624   417.779\n",
       "8              Des Moines Register   206.204   344.522\n",
       "9                 Hartford Courant   231.177   323.084\n",
       "10               Houston Chronicle   449.755   620.752\n",
       "11                Kansas City Star   288.571   423.305\n",
       "12         Los Angeles Daily  News   185.736   202.614\n",
       "13               Los Angeles Times  1164.388  1531.527\n",
       "14                    Miami Herald   444.581   553.479\n",
       "15        Minneapolis Star Tribune   412.871   685.975\n",
       "16      New Orleans Times-Picayune   272.280   324.241\n",
       "17             New York Daily News   781.796   983.240\n",
       "18                  New York Times  1209.225  1762.015\n",
       "19                         Newsday   825.512   960.308\n",
       "20              Omaha World Herald   223.748   284.611\n",
       "21          Orange County Register   354.843   407.760\n",
       "22           Philadelphia Inquirer   515.523   982.663\n",
       "23                Pittsburgh Press   220.465   557.000\n",
       "24              Portland Oregonian   337.672   440.923\n",
       "25     Providence Journal-Bulletin   197.120   268.060\n",
       "26  Rochester Democrat & Chronicle   133.239   262.048\n",
       "27             Rocky Mountain News   374.009   432.502\n",
       "28                  Sacramento Bee   273.844   338.355\n",
       "29         San Francisco Chronicle   570.364   704.322\n",
       "30         St. Louis Post-Dispatch   391.286   585.681\n",
       "31          St. Paul Pioneer Press   201.860   267.781\n",
       "32                   Tampa Tribune   321.626   408.343\n",
       "33                 Washington Post   838.902  1165.567"
      ]
     },
     "execution_count": 4,
     "metadata": {},
     "output_type": "execute_result"
    }
   ],
   "source": [
    "data1 = pd.read_csv(\"NewspaperData.csv\")\n",
    "data1"
   ]
  },
  {
   "cell_type": "code",
   "execution_count": 6,
   "id": "709ad591-9e6e-49d7-aedd-52a13e2f7380",
   "metadata": {},
   "outputs": [
    {
     "name": "stdout",
     "output_type": "stream",
     "text": [
      "<class 'pandas.core.frame.DataFrame'>\n",
      "RangeIndex: 34 entries, 0 to 33\n",
      "Data columns (total 3 columns):\n",
      " #   Column     Non-Null Count  Dtype  \n",
      "---  ------     --------------  -----  \n",
      " 0   Newspaper  34 non-null     object \n",
      " 1   daily      34 non-null     float64\n",
      " 2   sunday     34 non-null     float64\n",
      "dtypes: float64(2), object(1)\n",
      "memory usage: 948.0+ bytes\n"
     ]
    }
   ],
   "source": [
    "data1.info()"
   ]
  },
  {
   "cell_type": "code",
   "execution_count": 10,
   "id": "2480519e-fd79-45c6-b19d-af4a84a5ba86",
   "metadata": {},
   "outputs": [
    {
     "data": {
      "text/plain": [
       "Newspaper    0\n",
       "daily        0\n",
       "sunday       0\n",
       "dtype: int64"
      ]
     },
     "execution_count": 10,
     "metadata": {},
     "output_type": "execute_result"
    }
   ],
   "source": [
    "data1.isnull().sum()"
   ]
  },
  {
   "cell_type": "code",
   "execution_count": 12,
   "id": "9169030c-98e8-47e0-8e05-ec5f5d9b4eea",
   "metadata": {},
   "outputs": [
    {
     "data": {
      "text/html": [
       "<div>\n",
       "<style scoped>\n",
       "    .dataframe tbody tr th:only-of-type {\n",
       "        vertical-align: middle;\n",
       "    }\n",
       "\n",
       "    .dataframe tbody tr th {\n",
       "        vertical-align: top;\n",
       "    }\n",
       "\n",
       "    .dataframe thead th {\n",
       "        text-align: right;\n",
       "    }\n",
       "</style>\n",
       "<table border=\"1\" class=\"dataframe\">\n",
       "  <thead>\n",
       "    <tr style=\"text-align: right;\">\n",
       "      <th></th>\n",
       "      <th>daily</th>\n",
       "      <th>sunday</th>\n",
       "    </tr>\n",
       "  </thead>\n",
       "  <tbody>\n",
       "    <tr>\n",
       "      <th>count</th>\n",
       "      <td>34.000000</td>\n",
       "      <td>34.000000</td>\n",
       "    </tr>\n",
       "    <tr>\n",
       "      <th>mean</th>\n",
       "      <td>430.962471</td>\n",
       "      <td>591.202412</td>\n",
       "    </tr>\n",
       "    <tr>\n",
       "      <th>std</th>\n",
       "      <td>269.211470</td>\n",
       "      <td>376.418051</td>\n",
       "    </tr>\n",
       "    <tr>\n",
       "      <th>min</th>\n",
       "      <td>133.239000</td>\n",
       "      <td>202.614000</td>\n",
       "    </tr>\n",
       "    <tr>\n",
       "      <th>25%</th>\n",
       "      <td>233.021500</td>\n",
       "      <td>327.769500</td>\n",
       "    </tr>\n",
       "    <tr>\n",
       "      <th>50%</th>\n",
       "      <td>355.235500</td>\n",
       "      <td>436.712500</td>\n",
       "    </tr>\n",
       "    <tr>\n",
       "      <th>75%</th>\n",
       "      <td>516.616500</td>\n",
       "      <td>699.735250</td>\n",
       "    </tr>\n",
       "    <tr>\n",
       "      <th>max</th>\n",
       "      <td>1209.225000</td>\n",
       "      <td>1762.015000</td>\n",
       "    </tr>\n",
       "  </tbody>\n",
       "</table>\n",
       "</div>"
      ],
      "text/plain": [
       "             daily       sunday\n",
       "count    34.000000    34.000000\n",
       "mean    430.962471   591.202412\n",
       "std     269.211470   376.418051\n",
       "min     133.239000   202.614000\n",
       "25%     233.021500   327.769500\n",
       "50%     355.235500   436.712500\n",
       "75%     516.616500   699.735250\n",
       "max    1209.225000  1762.015000"
      ]
     },
     "execution_count": 12,
     "metadata": {},
     "output_type": "execute_result"
    }
   ],
   "source": [
    "data1.describe()"
   ]
  },
  {
   "cell_type": "code",
   "execution_count": 16,
   "id": "5bed7076-d1aa-4337-8a39-7f1b1c6d2eea",
   "metadata": {},
   "outputs": [
    {
     "data": {
      "image/png": "[encoded data removed]",
      "text/plain": [
       "<Figure size 600x300 with 1 Axes>"
      ]
     },
     "metadata": {},
     "output_type": "display_data"
    }
   ],
   "source": [
    "plt.figure(figsize=(6,3))\n",
    "plt.title(\"Box plot for Daily Sales\")\n",
    "plt.boxplot(data1[\"daily\"],vert = False)\n",
    "plt.show()"
   ]
  },
  {
   "cell_type": "code",
   "execution_count": 20,
   "id": "e2434cc1-1750-47ca-8100-0d5b4e7cf0b2",
   "metadata": {},
   "outputs": [
    {
     "data": {
      "image/png": "[encoded data removed]",
      "text/plain": [
       "<Figure size 640x480 with 1 Axes>"
      ]
     },
     "metadata": {},
     "output_type": "display_data"
    }
   ],
   "source": [
    "sns.histplot(data1[\"daily\"], kde = True,stat= 'density',)\n",
    "plt.show()"
   ]
  },
  {
   "cell_type": "code",
   "execution_count": 28,
   "id": "477def09-b287-4311-87e8-f6e02eefbbee",
   "metadata": {},
   "outputs": [
    {
     "data": {
      "image/png": "[encoded data removed]",
      "text/plain": [
       "<Figure size 640x480 with 1 Axes>"
      ]
     },
     "metadata": {},
     "output_type": "display_data"
    }
   ],
   "source": [
    "sns.histplot(data1[\"sunday\"], kde = True,stat= 'density',)\n",
    "plt.show()"
   ]
  },
  {
   "cell_type": "code",
   "execution_count": 26,
   "id": "ca5106e3-3e10-4559-b021-9428f04aae75",
   "metadata": {},
   "outputs": [
    {
     "data": {
      "image/png": "[encoded data removed]",
      "text/plain": [
       "<Figure size 600x300 with 1 Axes>"
      ]
     },
     "metadata": {},
     "output_type": "display_data"
    }
   ],
   "source": [
    "plt.figure(figsize=(6,3))\n",
    "plt.title(\"Box plot for Daily Sales\")\n",
    "plt.boxplot(data1[\"sunday\"],vert = False)\n",
    "plt.show()"
   ]
  },
  {
   "cell_type": "markdown",
   "id": "b725376e-9982-4aec-bdda-43d8c54493ef",
   "metadata": {},
   "source": [
    "- There are no missing values\n",
    "- The daily column values appers to be right-skewed\n",
    "- the sunday column values also apper to be right-skewed\n",
    "- There are two outliers in both daily column also in sunday column as observed from the boxplot"
   ]
  },
  {
   "cell_type": "markdown",
   "id": "a51392fc-e1ba-481c-b050-8230c79224dc",
   "metadata": {},
   "source": [
    "Scatter plot and correlation Strength"
   ]
  },
  {
   "cell_type": "markdown",
   "id": "1082fdcc-cdf4-46bf-8150-7801fb415c2b",
   "metadata": {},
   "source": [
    "Observations"
   ]
  },
  {
   "cell_type": "code",
   "execution_count": 41,
   "id": "491e4a24-2b17-4abd-9d91-a8674ea5b282",
   "metadata": {},
   "outputs": [
    {
     "data": {
      "image/png": "[encoded data removed]",
      "text/plain": [
       "<Figure size 640x480 with 1 Axes>"
      ]
     },
     "metadata": {},
     "output_type": "display_data"
    }
   ],
   "source": [
    "x= data1[\"daily\"]\n",
    "y= data1[\"sunday\"]\n",
    "plt.scatter(data1[\"daily\"], data1[\"sunday\"])\n",
    "plt.xlim(0, max(x) + 100)\n",
    "plt.ylim(0, max(x) + 100)\n",
    "plt.show()            "
   ]
  },
  {
   "cell_type": "code",
   "execution_count": 43,
   "id": "10fb9072-5ff3-4664-9936-50882b8c7786",
   "metadata": {},
   "outputs": [
    {
     "data": {
      "text/plain": [
       "0.9581543140785462"
      ]
     },
     "execution_count": 43,
     "metadata": {},
     "output_type": "execute_result"
    }
   ],
   "source": [
    "data1[\"daily\"].corr(data1[\"sunday\"])\n"
   ]
  },
  {
   "cell_type": "code",
   "execution_count": 47,
   "id": "33e52013-fe84-49fa-a173-dd55e89f028b",
   "metadata": {},
   "outputs": [
    {
     "data": {
      "text/html": [
       "<div>\n",
       "<style scoped>\n",
       "    .dataframe tbody tr th:only-of-type {\n",
       "        vertical-align: middle;\n",
       "    }\n",
       "\n",
       "    .dataframe tbody tr th {\n",
       "        vertical-align: top;\n",
       "    }\n",
       "\n",
       "    .dataframe thead th {\n",
       "        text-align: right;\n",
       "    }\n",
       "</style>\n",
       "<table border=\"1\" class=\"dataframe\">\n",
       "  <thead>\n",
       "    <tr style=\"text-align: right;\">\n",
       "      <th></th>\n",
       "      <th>daily</th>\n",
       "      <th>sunday</th>\n",
       "    </tr>\n",
       "  </thead>\n",
       "  <tbody>\n",
       "    <tr>\n",
       "      <th>daily</th>\n",
       "      <td>1.000000</td>\n",
       "      <td>0.958154</td>\n",
       "    </tr>\n",
       "    <tr>\n",
       "      <th>sunday</th>\n",
       "      <td>0.958154</td>\n",
       "      <td>1.000000</td>\n",
       "    </tr>\n",
       "  </tbody>\n",
       "</table>\n",
       "</div>"
      ],
      "text/plain": [
       "           daily    sunday\n",
       "daily   1.000000  0.958154\n",
       "sunday  0.958154  1.000000"
      ]
     },
     "execution_count": 47,
     "metadata": {},
     "output_type": "execute_result"
    }
   ],
   "source": [
    "data1[['daily','sunday']].corr()"
   ]
  },
  {
   "cell_type": "markdown",
   "id": "01c98d4f-22fb-4266-876c-711a7eee57a5",
   "metadata": {},
   "source": [
    "Observations"
   ]
  },
  {
   "cell_type": "markdown",
   "id": "9bc10d73-a6f3-43d4-9835-17e225cb95be",
   "metadata": {},
   "source": [
    "- The relationship between x (daily) and y(sunday) is seen to be linear as seen from sscatter plot\n",
    "- The correlation is strong positive with pearson;s correlation coefficient of 0.98154"
   ]
  },
  {
   "cell_type": "code",
   "execution_count": null,
   "id": "087e18d3-7dbb-4c32-9cae-45602b0c3814",
   "metadata": {},
   "outputs": [],
   "source": [
    "import statsmodels."
   ]
  }
 ],
 "metadata": {
  "kernelspec": {
   "display_name": "Python [conda env:base] *",
   "language": "python",
   "name": "conda-base-py"
  },
  "language_info": {
   "codemirror_mode": {
    "name": "ipython",
    "version": 3
   },
   "file_extension": ".py",
   "mimetype": "text/x-python",
   "name": "python",
   "nbconvert_exporter": "python",
   "pygments_lexer": "ipython3",
   "version": "3.12.7"
  }
 },
 "nbformat": 4,
 "nbformat_minor": 5
}
