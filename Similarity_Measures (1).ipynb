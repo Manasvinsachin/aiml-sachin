{
 "cells": [
  {
   "cell_type": "code",
   "execution_count": 10,
   "id": "c040d3e7-b6fb-4072-8cf5-6b416b7bd932",
   "metadata": {},
   "outputs": [],
   "source": [
    "import numpy as np \n",
    "from scipy.spatial.distance import cosine,euclidean\n",
    "from scipy.stats import pearsonr"
   ]
  },
  {
   "cell_type": "code",
   "execution_count": 12,
   "id": "ebee041b-2c57-4f07-a0a1-f958563066e5",
   "metadata": {},
   "outputs": [],
   "source": [
    "user1 = np.array([4,5,2,3,4])\n",
    "user2 = np.array([5,3,2,4,5])"
   ]
  },
  {
   "cell_type": "code",
   "execution_count": 14,
   "id": "168404c2-eb93-4956-bf71-a4b4e87099ca",
   "metadata": {},
   "outputs": [
    {
     "name": "stdout",
     "output_type": "stream",
     "text": [
      "Cosine Similarity: 0.954763\n"
     ]
    }
   ],
   "source": [
    "cosine_similarity = 1 - cosine(user1 , user2)\n",
    "print(f'Cosine Similarity: {cosine_similarity:4f}')"
   ]
  },
  {
   "cell_type": "code",
   "execution_count": 16,
   "id": "590db67c-5b7f-4562-afca-b04890880d98",
   "metadata": {},
   "outputs": [
    {
     "name": "stdout",
     "output_type": "stream",
     "text": [
      "Pearson Correlation Similarity: 0.4372\n"
     ]
    }
   ],
   "source": [
    "pearson_corr, _ = pearsonr(user1, user2)\n",
    "print(f'Pearson Correlation Similarity: {pearson_corr:.4f}')"
   ]
  },
  {
   "cell_type": "code",
   "execution_count": 18,
   "id": "33b516c7-e335-444f-908a-a8ffddf383a4",
   "metadata": {},
   "outputs": [
    {
     "name": "stdout",
     "output_type": "stream",
     "text": [
      "Euclidean Distance Similarity: 0.2743\n"
     ]
    }
   ],
   "source": [
    "euclidean_distance = euclidean(user1, user2)\n",
    "euclidean_similarity = 1 / ( 1+ euclidean_distance)\n",
    "print(f'Euclidean Distance Similarity: {euclidean_similarity:.4f}')"
   ]
  },
  {
   "cell_type": "code",
   "execution_count": 20,
   "id": "7b3b3bff-2192-4d31-896a-63d44d260392",
   "metadata": {},
   "outputs": [],
   "source": [
    "Raju = np.array([4,5,2,3,4])\n",
    "John = np.array([5,3,2,4,5])\n",
    "Ramya = np.array([4,5,2,3,4])\n",
    "Kishore = np.array([5,3,2,4,5])    "
   ]
  },
  {
   "cell_type": "code",
   "execution_count": 24,
   "id": "03ca3239-098a-4fab-8985-ce2bb6c4ba30",
   "metadata": {},
   "outputs": [
    {
     "name": "stdout",
     "output_type": "stream",
     "text": [
      "Cosine Similarity: 0.954763\n"
     ]
    }
   ],
   "source": [
    "cosine_similarity = 1 - cosine(Raju,John)\n",
    "print(f'Cosine Similarity: {cosine_similarity:4f}')"
   ]
  },
  {
   "cell_type": "code",
   "execution_count": 26,
   "id": "5e709f23-0df2-4d25-a46c-b2b05731d7b7",
   "metadata": {},
   "outputs": [
    {
     "name": "stdout",
     "output_type": "stream",
     "text": [
      "Cosine Similarity: 0.954763\n"
     ]
    }
   ],
   "source": [
    "cosine_similarity = 1 - cosine(Ramya,Kishore)\n",
    "print(f'Cosine Similarity: {cosine_similarity:4f}')"
   ]
  },
  {
   "cell_type": "code",
   "execution_count": 28,
   "id": "6c5407e1-beb9-4698-b920-f1c7baa94dde",
   "metadata": {},
   "outputs": [
    {
     "name": "stdout",
     "output_type": "stream",
     "text": [
      "Pearson Correlation Similarity: 0.4372\n"
     ]
    }
   ],
   "source": [
    "pearson_corr, _ = pearsonr(Raju,John)\n",
    "print(f'Pearson Correlation Similarity: {pearson_corr:.4f}')"
   ]
  },
  {
   "cell_type": "code",
   "execution_count": 30,
   "id": "619c65ae-35d9-4a69-b205-e2d901db20ce",
   "metadata": {},
   "outputs": [
    {
     "name": "stdout",
     "output_type": "stream",
     "text": [
      "Euclidean Distance Similarity: 0.2743\n"
     ]
    }
   ],
   "source": [
    "euclidean_distance = euclidean(Raju,John)\n",
    "euclidean_similarity = 1 / ( 1+ euclidean_distance)\n",
    "print(f'Euclidean Distance Similarity: {euclidean_similarity:.4f}')"
   ]
  },
  {
   "cell_type": "code",
   "execution_count": 34,
   "id": "a22b2693-8585-400e-b41a-bd550b74d14e",
   "metadata": {},
   "outputs": [
    {
     "name": "stdout",
     "output_type": "stream",
     "text": [
      "         Bahubali  Mufasa  Interstellar  RRR  Mrs\n",
      "Raju            5       3             4    4    2\n",
      "John            3       1             2    3    3\n",
      "Ramya           4       3             4    5    1\n",
      "Kishore         2       2             1    2    4\n",
      "  User 1   User 2  Cosine Similarity  Pearson Correlation  \\\n",
      "0   Raju     John           0.929670             0.196116   \n",
      "1   Raju    Ramya           0.978337             0.838557   \n",
      "2   Raju  Kishore           0.799014            -0.720577   \n",
      "3   John    Ramya           0.885465             0.036860   \n",
      "4   John  Kishore           0.919145             0.408248   \n",
      "5  Ramya  Kishore           0.725961            -0.812605   \n",
      "\n",
      "   Euclidean Similarity  \n",
      "0              0.210897  \n",
      "1              0.366025  \n",
      "2              0.161390  \n",
      "3              0.195194  \n",
      "4              0.309017  \n",
      "5              0.150221  \n"
     ]
    }
   ],
   "source": [
    "import numpy as np\n",
    "import pandas as pd\n",
    "from scipy.spatial.distance import cosine, euclidean\n",
    "from scipy.stats import pearsonr\n",
    "\n",
    "#User-item rating matrix for 4 users\n",
    "ratings = np.array([\n",
    "    [5, 3, 4, 4, 2],  # User A\n",
    "    [3, 1, 2, 3, 3],  # User B\n",
    "    [4, 3, 4, 5, 1],  # User C\n",
    "    [2, 2, 1, 2, 4]   # User D\n",
    "])\n",
    "\n",
    "users = [\"Raju\", \"John\", \"Ramya\", \"Kishore\"]\n",
    "df = pd.DataFrame(ratings, index=users, columns=[\"Bahubali\",\"Mufasa\",\"Interstellar\",\"RRR\",\"Mrs\"])\n",
    "print(df)\n",
    "\n",
    "# Function to compute similarity\n",
    "def compute_similarity(df):\n",
    "    num_users = df.shape[0]\n",
    "    similarity_results = []\n",
    "\n",
    "    for i in range(num_users):\n",
    "        for j in range(i + 1, num_users):  # Avoid redundant pairs\n",
    "            user1, user2 = df.iloc[i], df.iloc[j]\n",
    "\n",
    "            # Cosine Similarity\n",
    "            cos_sim = 1 - cosine(user1, user2)\n",
    "\n",
    "            # Pearson Correlation Similarity\n",
    "            pearson_sim, _ = pearsonr(user1, user2)\n",
    "\n",
    "            # Euclidean Distance Similarity\n",
    "            euc_dist = euclidean(user1, user2)\n",
    "            euc_sim = 1 / (1 + euc_dist)  # Normalize to [0,1]\n",
    "\n",
    "            similarity_results.append([users[i], users[j], cos_sim, pearson_sim, euc_sim])\n",
    "\n",
    "    return pd.DataFrame(similarity_results, columns=[\"User 1\", \"User 2\", \"Cosine Similarity\", \"Pearson Correlation\", \"Euclidean Similarity\"])\n",
    "\n",
    "# Compute similarity matrix\n",
    "similarity_df = compute_similarity(df)\n",
    "\n",
    "# Display results\n",
    "print(similarity_df)"
   ]
  },
  {
   "cell_type": "code",
   "execution_count": null,
   "id": "11d54712-8905-4b0e-9ccd-ec204a00d532",
   "metadata": {},
   "outputs": [],
   "source": []
  }
 ],
 "metadata": {
  "kernelspec": {
   "display_name": "Python [conda env:base] *",
   "language": "python",
   "name": "conda-base-py"
  },
  "language_info": {
   "codemirror_mode": {
    "name": "ipython",
    "version": 3
   },
   "file_extension": ".py",
   "mimetype": "text/x-python",
   "name": "python",
   "nbconvert_exporter": "python",
   "pygments_lexer": "ipython3",
   "version": "3.12.7"
  }
 },
 "nbformat": 4,
 "nbformat_minor": 5
}
